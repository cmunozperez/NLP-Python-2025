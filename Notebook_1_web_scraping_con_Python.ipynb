{
  "nbformat": 4,
  "nbformat_minor": 0,
  "metadata": {
    "colab": {
      "provenance": [],
      "authorship_tag": "ABX9TyOODVBK5EyBeggqC7b6Zqq4",
      "include_colab_link": true
    },
    "kernelspec": {
      "name": "python3",
      "display_name": "Python 3"
    },
    "language_info": {
      "name": "python"
    }
  },
  "cells": [
    {
      "cell_type": "markdown",
      "metadata": {
        "id": "view-in-github",
        "colab_type": "text"
      },
      "source": [
        "<a href=\"https://colab.research.google.com/github/cmunozperez/NLP-Python-2025/blob/main/Notebook_1_web_scraping_con_Python.ipynb\" target=\"_parent\"><img src=\"https://colab.research.google.com/assets/colab-badge.svg\" alt=\"Open In Colab\"/></a>"
      ]
    },
    {
      "cell_type": "markdown",
      "source": [
        "# Web scraping\n",
        "En este notebook veremos algunos aspectos básicos de cómo extraer datos desde una página web."
      ],
      "metadata": {
        "id": "EJmHEQv_R4g0"
      }
    },
    {
      "cell_type": "markdown",
      "source": [
        "## Paquetes\n",
        "\n",
        "Usaremos tres paquetes en particular:\n",
        "\n",
        "- **BeautifulSoup:** es un paquete que permite explorar código html. Por ejemplo, le podemos pedir que nos diga el contenido correspondiente a una cierta etiqueta.\n",
        "- **requests:** es un paquete de Python que permite conectarse con sitios web.\n",
        "- **re:** expresiones regulares (regex)"
      ],
      "metadata": {
        "id": "lhUVU4sOShLi"
      }
    },
    {
      "cell_type": "code",
      "execution_count": null,
      "metadata": {
        "id": "HgY9AauZGBSB"
      },
      "outputs": [],
      "source": [
        "from bs4 import BeautifulSoup\n",
        "import requests\n",
        "import re"
      ]
    },
    {
      "cell_type": "markdown",
      "source": [
        "## Primer request\n",
        "\n",
        "El siguiente código nos permite obtener la información de una página web de *Lingbuzz*. El valor *timeout* indica el tiempo máximo (en segundos) que se debe esperar para una respuesta."
      ],
      "metadata": {
        "id": "b1P0rX1xUeVd"
      }
    },
    {
      "cell_type": "code",
      "source": [
        "# Los manuscritos de Lingbuzz se componen de cuatro números precedidos por dos ceros, e.g., 006509.\n",
        "\n",
        "manuscript_id = '003567'\n",
        "url = 'https://ling.auf.net/lingbuzz/' + manuscript_id\n",
        "result = requests.get(url,\n",
        "                      timeout=10).text"
      ],
      "metadata": {
        "id": "f1XQcqHkGMg1"
      },
      "execution_count": null,
      "outputs": []
    },
    {
      "cell_type": "markdown",
      "source": [
        "Como pueden ver, lo que obtuvimos es código html análogo al que vimos en Chrome."
      ],
      "metadata": {
        "id": "QItNtxYWViN6"
      }
    },
    {
      "cell_type": "code",
      "source": [
        "result"
      ],
      "metadata": {
        "id": "rRvCdai-GUrD",
        "colab": {
          "base_uri": "https://localhost:8080/",
          "height": 250
        },
        "outputId": "0824b3fd-abc0-4656-ce3e-da7ac7203b1c"
      },
      "execution_count": null,
      "outputs": [
        {
          "output_type": "execute_result",
          "data": {
            "text/plain": [
              "'<!DOCTYPE html PUBLIC \"-//W3C//DTD XHTML 1.0 Transitional//EN\" \"http://www.w3.org/TR/xhtml1/DTD/xhtml1-transitional.dtd\"><html xmlns=\"http://www.w3.org/1999/xhtml\" xml:lang=\"en\" lang=\"en\"><head><title>Bits, bytes, and Unicode: Digital text for linguists - lingbuzz/003567</title><meta http-equiv=\"Content-Type\" content=\"text/html;charset=utf-8\"/><meta http-equiv=\"Content-Script-Type\" content=\"text/javascript\"/><link rel=\"canonical\" href=\"/lingbuzz/003567\"/><meta name=\"description\" content=\"A linguistically-oriented review of digital text and the representation of text with the Unicode charater set and encoding system. Presents basic terminology and concepts of writing systems, and of di - lingbuzz, the linguistics archive\"/><link rel=\"stylesheet\" type=\"text/css\" href=\"/buzzdocs/styles/article-editor.css\"/><link rel=\"stylesheet\" type=\"text/css\" href=\"/lingbuzz?_s=0HOgdYn10AIh4bMP\"/></head><body alink=\"#111111\" vlink=\"#333344\" link=\"#3333AA\" onload=\"onLoad()\">&nbsp;<p></p><center><font size=\"+1\"><b><a href=\"/lingbuzz/003567/current.pdf?_s=-8KdXJVswGhnqFdz\">Bits, bytes, and Unicode: Digital text for linguists</a></b></font><br/><a href=\"/lingbuzz/003567?_s=r24qa9hWRt5wRecr&amp;_k=51YkiGSV_EPhX9OA&amp;1\">James Crippen</a><br/>January 2016</center>&nbsp;<p></p>A linguistically-oriented review of digital text and the representation of text with the Unicode charater set and encoding system. Presents basic terminology and concepts of writing systems, and of digital representation of information with binary (and hexadecimal) numbers. Details characters, character encodings, processes of encoding conversion, and file formats. The Unicode character set is discussed in extensive detail, distinguishing code points, character names, meta-structure such as planes and blocks, meta-data such as character types and properties, and basic principles of representation normalization and sorting. Ends with a review of Unicode encoding formats (e.g. UTF-8, UTF-16) and some practical issues for using Unicode in linguistics.<table cellspacing=\"15\" valign=\"top\"><tr><td>Format: </td><td>[ <a href=\"/lingbuzz/003567/current.pdf?_s=UCMSIfqJtjoDllVV\">pdf</a> ]</td></tr><tr><td>Reference: </td><td>lingbuzz/003567<br/><font size=\"-1\"> (please use that when you cite this article)</font></td></tr><tr><td>Published in: </td><td>University of British Columbia</td></tr><tr><td>keywords: </td><td>unicode, text, orthography, writing systems, human computer interaction, phonology</td></tr><tr><td>Downloaded:</td><td>509 times</td></tr></table><table cellspacing=\"15\"><tr><p></p>&nbsp;<p></p>[ <a href=\"/lingbuzz/003567?_s=r24qa9hWRt5wRecr&amp;_k=51YkiGSV_EPhX9OA&amp;2\">edit this article</a> | <a href=\"/lingbuzz/003567?_s=r24qa9hWRt5wRecr&amp;_k=51YkiGSV_EPhX9OA&amp;3\">back to article list</a> ]</tr></table><script type=\"text/javascript\">/*<![CDATA[*/function onLoad(){};/*]]>*/</script></body></html>'"
            ],
            "application/vnd.google.colaboratory.intrinsic+json": {
              "type": "string"
            }
          },
          "metadata": {},
          "execution_count": 4
        }
      ]
    },
    {
      "cell_type": "markdown",
      "source": [
        "## Parsear html con BeautifulSoup\n",
        "\n",
        "Podemos convertir este resultado en un objeto de *BeautifulSoup*, a cuyas subpartes podamos acceder fácilmente."
      ],
      "metadata": {
        "id": "e-hecfM-Z20H"
      }
    },
    {
      "cell_type": "code",
      "source": [
        "doc = BeautifulSoup(result, 'html.parser')"
      ],
      "metadata": {
        "id": "_PZEIveuG5ZN"
      },
      "execution_count": null,
      "outputs": []
    },
    {
      "cell_type": "markdown",
      "source": [
        "Por ejemplo, ahora podemos acceder fácilmente a todos los *tags* que habíamos visto en el código html."
      ],
      "metadata": {
        "id": "ofdaBxW2aaf9"
      }
    },
    {
      "cell_type": "code",
      "source": [
        "for element in doc.find_all():\n",
        "  print(element.name)"
      ],
      "metadata": {
        "id": "fZ9P_5RAaZdV",
        "colab": {
          "base_uri": "https://localhost:8080/"
        },
        "outputId": "8b74e4b4-f841-47bf-e303-bd9e68252afe"
      },
      "execution_count": null,
      "outputs": [
        {
          "output_type": "stream",
          "name": "stdout",
          "text": [
            "html\n",
            "head\n",
            "title\n",
            "meta\n",
            "meta\n",
            "link\n",
            "meta\n",
            "link\n",
            "link\n",
            "body\n",
            "p\n",
            "center\n",
            "font\n",
            "b\n",
            "a\n",
            "br\n",
            "a\n",
            "br\n",
            "p\n",
            "table\n",
            "tr\n",
            "td\n",
            "td\n",
            "a\n",
            "tr\n",
            "td\n",
            "td\n",
            "br\n",
            "font\n",
            "tr\n",
            "td\n",
            "td\n",
            "tr\n",
            "td\n",
            "td\n",
            "tr\n",
            "td\n",
            "td\n",
            "table\n",
            "tr\n",
            "p\n",
            "p\n",
            "a\n",
            "a\n",
            "script\n"
          ]
        }
      ]
    },
    {
      "cell_type": "markdown",
      "source": [
        "Como vimos antes, buena parte de la información que nos interesa está dentro del tag *center*. Podemos acceder fácilmente a este tag con el atributo adecuado."
      ],
      "metadata": {
        "id": "QHAE-eHwdPs-"
      }
    },
    {
      "cell_type": "code",
      "source": [
        "doc.center"
      ],
      "metadata": {
        "id": "ibYZjVBCIi0t",
        "colab": {
          "base_uri": "https://localhost:8080/"
        },
        "outputId": "f5bc14fc-2a07-4fec-82c0-29e5da1c40b2"
      },
      "execution_count": null,
      "outputs": [
        {
          "output_type": "execute_result",
          "data": {
            "text/plain": [
              "<center><font size=\"+1\"><b><a href=\"/lingbuzz/003567/current.pdf?_s=-8KdXJVswGhnqFdz\">Bits, bytes, and Unicode: Digital text for linguists</a></b></font><br/><a href=\"/lingbuzz/003567?_s=r24qa9hWRt5wRecr&amp;_k=51YkiGSV_EPhX9OA&amp;1\">James Crippen</a><br/>January 2016</center>"
            ]
          },
          "metadata": {},
          "execution_count": 7
        }
      ]
    },
    {
      "cell_type": "markdown",
      "source": [
        "Tenemos varios métodos que podemos aplicar sobre *doc* para obtener la información que queremos.\n",
        "\n",
        "```\n",
        "doc.center.find_all('a') % lista de todos los tags <a> en <center>\n",
        "doc.center.find('a') % el primer <a> en <center>\n",
        "doc.center.a % abreviación del método anterior\n",
        "```\n",
        "\n",
        "Si agregamos el atributo *.string* sobre uno de estos tags en particular, obtendremos el texto que contienen. Con esto podemos obtener fácilmente el título del artículo y el nombre del autor."
      ],
      "metadata": {
        "id": "vJfhsu_pqORk"
      }
    },
    {
      "cell_type": "code",
      "source": [
        "doc.center.find_all('a')"
      ],
      "metadata": {
        "id": "ZT3zoCZ-vZFN",
        "colab": {
          "base_uri": "https://localhost:8080/"
        },
        "outputId": "38ee8f97-3ce9-4079-c8f7-1b1b575822f2"
      },
      "execution_count": null,
      "outputs": [
        {
          "output_type": "execute_result",
          "data": {
            "text/plain": [
              "[<a href=\"/lingbuzz/003567/current.pdf?_s=-8KdXJVswGhnqFdz\">Bits, bytes, and Unicode: Digital text for linguists</a>,\n",
              " <a href=\"/lingbuzz/003567?_s=r24qa9hWRt5wRecr&amp;_k=51YkiGSV_EPhX9OA&amp;1\">James Crippen</a>]"
            ]
          },
          "metadata": {},
          "execution_count": 8
        }
      ]
    },
    {
      "cell_type": "code",
      "source": [
        "doc.center.a.string"
      ],
      "metadata": {
        "id": "GyblKV_Pqecv",
        "colab": {
          "base_uri": "https://localhost:8080/",
          "height": 36
        },
        "outputId": "da7c90ef-8498-4beb-f108-f7d3c8067328"
      },
      "execution_count": null,
      "outputs": [
        {
          "output_type": "execute_result",
          "data": {
            "text/plain": [
              "'Bits, bytes, and Unicode: Digital text for linguists'"
            ],
            "application/vnd.google.colaboratory.intrinsic+json": {
              "type": "string"
            }
          },
          "metadata": {},
          "execution_count": 9
        }
      ]
    },
    {
      "cell_type": "code",
      "source": [
        "doc.center.find_all('a')[1].string"
      ],
      "metadata": {
        "id": "MSlOgSnlvzKk",
        "colab": {
          "base_uri": "https://localhost:8080/",
          "height": 36
        },
        "outputId": "65f34163-0300-48fd-ec10-8e2e22ff1c71"
      },
      "execution_count": null,
      "outputs": [
        {
          "output_type": "execute_result",
          "data": {
            "text/plain": [
              "'James Crippen'"
            ],
            "application/vnd.google.colaboratory.intrinsic+json": {
              "type": "string"
            }
          },
          "metadata": {},
          "execution_count": 10
        }
      ]
    },
    {
      "cell_type": "markdown",
      "source": [
        "Bien, eso es todo lo que necesitamos del tag *center*. Pasemos a *table*, que es el otro tag que contiene información que queremos (palabras clave y número de descargas)."
      ],
      "metadata": {
        "id": "O4rRhnxpwRij"
      }
    },
    {
      "cell_type": "code",
      "source": [
        "doc.table"
      ],
      "metadata": {
        "id": "kPSQ7Ob8wSP7",
        "colab": {
          "base_uri": "https://localhost:8080/"
        },
        "outputId": "e8277f85-bb09-432f-a422-c72d785351ad"
      },
      "execution_count": null,
      "outputs": [
        {
          "output_type": "execute_result",
          "data": {
            "text/plain": [
              "<table cellspacing=\"15\" valign=\"top\"><tr><td>Format: </td><td>[ <a href=\"/lingbuzz/003567/current.pdf?_s=UCMSIfqJtjoDllVV\">pdf</a> ]</td></tr><tr><td>Reference: </td><td>lingbuzz/003567<br/><font size=\"-1\"> (please use that when you cite this article)</font></td></tr><tr><td>Published in: </td><td>University of British Columbia</td></tr><tr><td>keywords: </td><td>unicode, text, orthography, writing systems, human computer interaction, phonology</td></tr><tr><td>Downloaded:</td><td>509 times</td></tr></table>"
            ]
          },
          "metadata": {},
          "execution_count": 11
        }
      ]
    },
    {
      "cell_type": "markdown",
      "source": [
        "Veamos qué tags tenemos en ese choclo."
      ],
      "metadata": {
        "id": "KvPK930DyjZt"
      }
    },
    {
      "cell_type": "code",
      "source": [
        "for num in range(10):\n",
        "  print(num)"
      ],
      "metadata": {
        "colab": {
          "base_uri": "https://localhost:8080/"
        },
        "id": "60D8Rp908aJm",
        "outputId": "9ac575b3-69d2-41d5-a0c3-9844ca1c859c"
      },
      "execution_count": null,
      "outputs": [
        {
          "output_type": "stream",
          "name": "stdout",
          "text": [
            "0\n",
            "1\n",
            "2\n",
            "3\n",
            "4\n",
            "5\n",
            "6\n",
            "7\n",
            "8\n",
            "9\n"
          ]
        }
      ]
    },
    {
      "cell_type": "code",
      "source": [
        "[element.name for element in doc.table]"
      ],
      "metadata": {
        "id": "n3nm9TA1IkIV",
        "colab": {
          "base_uri": "https://localhost:8080/"
        },
        "outputId": "43458c65-f2dd-4b61-eb22-97584430dfd8"
      },
      "execution_count": null,
      "outputs": [
        {
          "output_type": "execute_result",
          "data": {
            "text/plain": [
              "['tr', 'tr', 'tr', 'tr', 'tr']"
            ]
          },
          "metadata": {},
          "execution_count": 14
        }
      ]
    },
    {
      "cell_type": "markdown",
      "source": [
        "Bueno, tenemos seis tags *tr* que representan filas en una tabla (*table rows*). Cada *tr* tiene adentro tags *td* (*table data*) que son celdas de izquierda a derecha. Si nos fijamos en *Lingbuzz*, nos interesan las segundas celdas de la cuarta y sexta (última) filas."
      ],
      "metadata": {
        "id": "_7UsW18Qyp0N"
      }
    },
    {
      "cell_type": "code",
      "source": [
        "(doc.table.find_all('tr')[3]).find_all('td')[1].string"
      ],
      "metadata": {
        "id": "ok4Q4EqkI2uR",
        "colab": {
          "base_uri": "https://localhost:8080/",
          "height": 53
        },
        "outputId": "30e36b5b-f0c8-4bbe-a0f8-bbf05455d498"
      },
      "execution_count": null,
      "outputs": [
        {
          "output_type": "execute_result",
          "data": {
            "text/plain": [
              "'unicode, text, orthography, writing systems, human computer interaction, phonology'"
            ],
            "application/vnd.google.colaboratory.intrinsic+json": {
              "type": "string"
            }
          },
          "metadata": {},
          "execution_count": 15
        }
      ]
    },
    {
      "cell_type": "markdown",
      "source": [],
      "metadata": {
        "id": "EY2xnTAr9783"
      }
    },
    {
      "cell_type": "code",
      "source": [
        "(doc.table.find_all('tr')[-1]).find_all('td')[1].string"
      ],
      "metadata": {
        "id": "fGAoei6WLwgf",
        "colab": {
          "base_uri": "https://localhost:8080/",
          "height": 36
        },
        "outputId": "3f8d45a7-bd0f-4b73-ce97-3223e7f1cbc0"
      },
      "execution_count": null,
      "outputs": [
        {
          "output_type": "execute_result",
          "data": {
            "text/plain": [
              "'509 times'"
            ],
            "application/vnd.google.colaboratory.intrinsic+json": {
              "type": "string"
            }
          },
          "metadata": {},
          "execution_count": 16
        }
      ]
    },
    {
      "cell_type": "markdown",
      "source": [
        "Tal vez sería útil tener un *int* en vez de un *str* con el número de descargas. Lo que hacemos es usar regex para buscar los dígitos en el resultado anterior."
      ],
      "metadata": {
        "id": "ZrWNInGj46Gk"
      }
    },
    {
      "cell_type": "code",
      "source": [
        "int(re.search(r'\\d+', (doc.table.find_all('tr')[-1]).find_all('td')[1].string).group())"
      ],
      "metadata": {
        "id": "C9VZGfIbLyW3",
        "colab": {
          "base_uri": "https://localhost:8080/"
        },
        "outputId": "4bc4e257-b433-4e59-e3f1-a82bad0c7e85"
      },
      "execution_count": null,
      "outputs": [
        {
          "output_type": "execute_result",
          "data": {
            "text/plain": [
              "509"
            ]
          },
          "metadata": {},
          "execution_count": 17
        }
      ]
    },
    {
      "cell_type": "markdown",
      "source": [
        "## Extraer el abstract\n",
        "\n",
        "Volvamos a mirar el html. Como se observa, el abstract no se encuentra dentro de ningún tag en particular; está \"flotando\" dentro de *body* en \"sexto lugar\"."
      ],
      "metadata": {
        "id": "dD8AVKmU8iEi"
      }
    },
    {
      "cell_type": "code",
      "source": [
        "list(doc.body)[5]"
      ],
      "metadata": {
        "id": "0aMddQzp4MgT"
      },
      "execution_count": null,
      "outputs": []
    },
    {
      "cell_type": "markdown",
      "source": [
        "Sin embargo, encontré casos en los que el abstract está repartido en varias partes sucesivas dentro del html. Por eso, vamos a aplicar una solución de \"fuerza bruta\" para extraerlo: vamos a tomar todo lo que está entre la sexta posición dentro de *body* y la tabla."
      ],
      "metadata": {
        "id": "2b9UguF8-F3-"
      }
    },
    {
      "cell_type": "code",
      "source": [
        "abstract = ''\n",
        "\n",
        "for i in list(doc.body)[5:]:\n",
        "    if i.string == None:\n",
        "        break\n",
        "    abstract += i.string"
      ],
      "metadata": {
        "id": "EUfWEBZ78eLy"
      },
      "execution_count": null,
      "outputs": []
    },
    {
      "cell_type": "code",
      "source": [
        "abstract"
      ],
      "metadata": {
        "id": "brN4_YbI-6Fx",
        "colab": {
          "base_uri": "https://localhost:8080/",
          "height": 197
        },
        "outputId": "740b60a9-a528-4dee-e5e7-c48e9fe4a80c"
      },
      "execution_count": null,
      "outputs": [
        {
          "output_type": "execute_result",
          "data": {
            "text/plain": [
              "'A linguistically-oriented review of digital text and the representation of text with the Unicode charater set and encoding system. Presents basic terminology and concepts of writing systems, and of digital representation of information with binary (and hexadecimal) numbers. Details characters, character encodings, processes of encoding conversion, and file formats. The Unicode character set is discussed in extensive detail, distinguishing code points, character names, meta-structure such as planes and blocks, meta-data such as character types and properties, and basic principles of representation normalization and sorting. Ends with a review of Unicode encoding formats (e.g. UTF-8, UTF-16) and some practical issues for using Unicode in linguistics.'"
            ],
            "application/vnd.google.colaboratory.intrinsic+json": {
              "type": "string"
            }
          },
          "metadata": {},
          "execution_count": 19
        }
      ]
    },
    {
      "cell_type": "markdown",
      "source": [
        "# A function to rule them all\n",
        "\n",
        "Pongamos todo lo que hicimos hasta ahora en una única función que (i) toma un *id* de *Lingbuzz* y devuelve una lista con\n",
        "\n",
        "- el nombre del artículo,\n",
        "- el nombre sus autores,\n",
        "- las palabras clave,\n",
        "- el número de descargas, y\n",
        "- el abstract."
      ],
      "metadata": {
        "id": "a-hojXtGCfjL"
      }
    },
    {
      "cell_type": "code",
      "source": [
        "def get_page(man_id):\n",
        "  \"\"\"\n",
        "  Given a lingbuzz id number, the function retrieves the title of the manuscript, its author, the date in which it was uploaded, how many times it was downloaded, and its abstract.\n",
        "\n",
        "  Args:\n",
        "  manuscript_id (str): a lingbuzz number id\n",
        "\n",
        "  Returns:\n",
        "  list: a list with the relevant information of the manuscript\n",
        "  \"\"\"\n",
        "\n",
        "  # Primero se hace el request\n",
        "  url = 'https://ling.auf.net/lingbuzz/' + man_id\n",
        "  result = requests.get(url,\n",
        "                      timeout=10).text\n",
        "\n",
        "  # Ahora construimos el objeto de BeautifulSuop\n",
        "  doc = BeautifulSoup(result, 'html.parser')\n",
        "\n",
        "  # Luego, el título y el autor o autores\n",
        "  title = doc.center.a.string\n",
        "  author = doc.center.find_all('a')[1].string\n",
        "\n",
        "  # Pasemos a la información de la tabla\n",
        "  keywords = (doc.table.find_all('tr')[3]).find_all('td')[1].string\n",
        "  downloads = int(re.search(r'\\d+', (doc.table.find_all('tr')[-1]).find_all('td')[1].string).group())\n",
        "\n",
        "  # Por último, el abstract\n",
        "  abstract = ''\n",
        "\n",
        "  for i in list(doc.body)[5:]:\n",
        "    if i.string == None:\n",
        "        break\n",
        "    abstract += i.string\n",
        "\n",
        "  return [man_id, title, author, keywords, downloads, abstract]"
      ],
      "metadata": {
        "id": "go3Jx-cz_sOr"
      },
      "execution_count": null,
      "outputs": []
    },
    {
      "cell_type": "code",
      "source": [
        "print(get_page('002402'))"
      ],
      "metadata": {
        "id": "H6WcO2DBEy9r",
        "colab": {
          "base_uri": "https://localhost:8080/"
        },
        "outputId": "d96f8ecb-c22e-4011-8150-1d9230dcd552"
      },
      "execution_count": null,
      "outputs": [
        {
          "output_type": "stream",
          "name": "stdout",
          "text": [
            "['002402', 'Syntacticizing blends: the case of English wh-raising', 'Lieven Danckaert', None, 1568, 'The focus of this paper is the data such as (1), in which a long relativised subject triggers agreement in both the embedded and the matrix clause. \\r\\n\\r\\n(1)\\tThe company has seen two developments in the standard of hygiene  which are felt  are attributable to the fact that the programme is now fully up and running. \\r\\n\\r\\nAt first sight, the example seems to be derived by illicit subject raising from within a finite clause which - at least in English - is standardly unacceptable, regardless of the presence of the complementizer that. However, some  native speaking informants accept data as (1) and such data are also attested. \\r\\nBecause the pattern in (1) is tied to wh-movement and is unavailable with a regular DP subject we will call the pattern in (1) wh-raising. \\r\\n\\r\\nUsing a cartographic framework, we will develop an analysis for the derivation of the data in (1) framed against the background of Rizzi’s (2006) approach to subject extraction']\n"
          ]
        }
      ]
    },
    {
      "cell_type": "markdown",
      "source": [
        "# Pandas\n",
        "\n",
        "Pandas es un paquete de Python que sirve para trabajar con datos en forma de tablas; es un excel para gente grande. Es muy útil para guardar datos como los que acabamos de recolectar."
      ],
      "metadata": {
        "id": "IFhX40PUHxmd"
      }
    },
    {
      "cell_type": "code",
      "source": [
        "import pandas as pd"
      ],
      "metadata": {
        "id": "ipEIicwjH0T8"
      },
      "execution_count": null,
      "outputs": []
    },
    {
      "cell_type": "markdown",
      "source": [
        "Llevar a Pandas datos que están almacenados en forma de lista es muy sencillo. A modo de ejemplo, creemos una lista con los datos de dos manuscritos de *Lingbuzz* (que son, en sí mismas, listas)."
      ],
      "metadata": {
        "id": "UXnK1VejaFki"
      }
    },
    {
      "cell_type": "code",
      "source": [
        "# Primero, obtenemos los datos de dos manuscritos\n",
        "manuscrito1 = get_page('009004')\n",
        "manuscrito2 = get_page('008762')\n",
        "\n",
        "# Segundo, creamos una lista con ambos conjuntos de datos\n",
        "datos = [manuscrito1, manuscrito2]"
      ],
      "metadata": {
        "id": "3FszoMdsIsNj"
      },
      "execution_count": null,
      "outputs": []
    },
    {
      "cell_type": "markdown",
      "source": [
        "Una tabla de Pandas se denomina **DataFrame**. Podemos crear un DataFrame con una lista de listas. Como verán, también es posible nombrar cada una de las columnas."
      ],
      "metadata": {
        "id": "I_yJEurWbbx_"
      }
    },
    {
      "cell_type": "code",
      "source": [
        "df = pd.DataFrame(datos, columns=['ID', 'Título', 'Autor', 'Palabras clave', 'Descargas', 'Resumen'])"
      ],
      "metadata": {
        "id": "V4N7gxqXbNtW"
      },
      "execution_count": null,
      "outputs": []
    },
    {
      "cell_type": "markdown",
      "source": [
        "Pandas se lleva muy bien con Jupyter Notebooks y con Google Colab."
      ],
      "metadata": {
        "id": "6y1617qicLQU"
      }
    },
    {
      "cell_type": "code",
      "source": [
        "df"
      ],
      "metadata": {
        "id": "rbh4itgEcKTt",
        "colab": {
          "base_uri": "https://localhost:8080/",
          "height": 1220
        },
        "outputId": "e535c615-550d-41f2-ab5b-8060a262496e"
      },
      "execution_count": null,
      "outputs": [
        {
          "output_type": "execute_result",
          "data": {
            "text/plain": [
              "       ID                                             Título  \\\n",
              "0  009004  Comparing two experimental designs for the stu...   \n",
              "1  008762          Clausal doubling produces phantom islands   \n",
              "\n",
              "                Autor                                     Palabras clave  \\\n",
              "0     Laura Stigliano  islands, subject islands, subjects, experiment...   \n",
              "1  Carlos Muñoz Pérez  phantom islands, clausal doubling, contrastive...   \n",
              "\n",
              "   Descargas                                            Resumen  \n",
              "0         74  This paper investigates the phenomenon of subj...  \n",
              "1        336  Clausal doubling in Spanish seemingly displays...  "
            ],
            "text/html": [
              "\n",
              "  <div id=\"df-b51a8fdf-ffa2-4921-ba42-f84075bc0729\" class=\"colab-df-container\">\n",
              "    <div>\n",
              "<style scoped>\n",
              "    .dataframe tbody tr th:only-of-type {\n",
              "        vertical-align: middle;\n",
              "    }\n",
              "\n",
              "    .dataframe tbody tr th {\n",
              "        vertical-align: top;\n",
              "    }\n",
              "\n",
              "    .dataframe thead th {\n",
              "        text-align: right;\n",
              "    }\n",
              "</style>\n",
              "<table border=\"1\" class=\"dataframe\">\n",
              "  <thead>\n",
              "    <tr style=\"text-align: right;\">\n",
              "      <th></th>\n",
              "      <th>ID</th>\n",
              "      <th>Título</th>\n",
              "      <th>Autor</th>\n",
              "      <th>Palabras clave</th>\n",
              "      <th>Descargas</th>\n",
              "      <th>Resumen</th>\n",
              "    </tr>\n",
              "  </thead>\n",
              "  <tbody>\n",
              "    <tr>\n",
              "      <th>0</th>\n",
              "      <td>009004</td>\n",
              "      <td>Comparing two experimental designs for the stu...</td>\n",
              "      <td>Laura Stigliano</td>\n",
              "      <td>islands, subject islands, subjects, experiment...</td>\n",
              "      <td>74</td>\n",
              "      <td>This paper investigates the phenomenon of subj...</td>\n",
              "    </tr>\n",
              "    <tr>\n",
              "      <th>1</th>\n",
              "      <td>008762</td>\n",
              "      <td>Clausal doubling produces phantom islands</td>\n",
              "      <td>Carlos Muñoz Pérez</td>\n",
              "      <td>phantom islands, clausal doubling, contrastive...</td>\n",
              "      <td>336</td>\n",
              "      <td>Clausal doubling in Spanish seemingly displays...</td>\n",
              "    </tr>\n",
              "  </tbody>\n",
              "</table>\n",
              "</div>\n",
              "    <div class=\"colab-df-buttons\">\n",
              "\n",
              "  <div class=\"colab-df-container\">\n",
              "    <button class=\"colab-df-convert\" onclick=\"convertToInteractive('df-b51a8fdf-ffa2-4921-ba42-f84075bc0729')\"\n",
              "            title=\"Convert this dataframe to an interactive table.\"\n",
              "            style=\"display:none;\">\n",
              "\n",
              "  <svg xmlns=\"http://www.w3.org/2000/svg\" height=\"24px\" viewBox=\"0 -960 960 960\">\n",
              "    <path d=\"M120-120v-720h720v720H120Zm60-500h600v-160H180v160Zm220 220h160v-160H400v160Zm0 220h160v-160H400v160ZM180-400h160v-160H180v160Zm440 0h160v-160H620v160ZM180-180h160v-160H180v160Zm440 0h160v-160H620v160Z\"/>\n",
              "  </svg>\n",
              "    </button>\n",
              "\n",
              "  <style>\n",
              "    .colab-df-container {\n",
              "      display:flex;\n",
              "      gap: 12px;\n",
              "    }\n",
              "\n",
              "    .colab-df-convert {\n",
              "      background-color: #E8F0FE;\n",
              "      border: none;\n",
              "      border-radius: 50%;\n",
              "      cursor: pointer;\n",
              "      display: none;\n",
              "      fill: #1967D2;\n",
              "      height: 32px;\n",
              "      padding: 0 0 0 0;\n",
              "      width: 32px;\n",
              "    }\n",
              "\n",
              "    .colab-df-convert:hover {\n",
              "      background-color: #E2EBFA;\n",
              "      box-shadow: 0px 1px 2px rgba(60, 64, 67, 0.3), 0px 1px 3px 1px rgba(60, 64, 67, 0.15);\n",
              "      fill: #174EA6;\n",
              "    }\n",
              "\n",
              "    .colab-df-buttons div {\n",
              "      margin-bottom: 4px;\n",
              "    }\n",
              "\n",
              "    [theme=dark] .colab-df-convert {\n",
              "      background-color: #3B4455;\n",
              "      fill: #D2E3FC;\n",
              "    }\n",
              "\n",
              "    [theme=dark] .colab-df-convert:hover {\n",
              "      background-color: #434B5C;\n",
              "      box-shadow: 0px 1px 3px 1px rgba(0, 0, 0, 0.15);\n",
              "      filter: drop-shadow(0px 1px 2px rgba(0, 0, 0, 0.3));\n",
              "      fill: #FFFFFF;\n",
              "    }\n",
              "  </style>\n",
              "\n",
              "    <script>\n",
              "      const buttonEl =\n",
              "        document.querySelector('#df-b51a8fdf-ffa2-4921-ba42-f84075bc0729 button.colab-df-convert');\n",
              "      buttonEl.style.display =\n",
              "        google.colab.kernel.accessAllowed ? 'block' : 'none';\n",
              "\n",
              "      async function convertToInteractive(key) {\n",
              "        const element = document.querySelector('#df-b51a8fdf-ffa2-4921-ba42-f84075bc0729');\n",
              "        const dataTable =\n",
              "          await google.colab.kernel.invokeFunction('convertToInteractive',\n",
              "                                                    [key], {});\n",
              "        if (!dataTable) return;\n",
              "\n",
              "        const docLinkHtml = 'Like what you see? Visit the ' +\n",
              "          '<a target=\"_blank\" href=https://colab.research.google.com/notebooks/data_table.ipynb>data table notebook</a>'\n",
              "          + ' to learn more about interactive tables.';\n",
              "        element.innerHTML = '';\n",
              "        dataTable['output_type'] = 'display_data';\n",
              "        await google.colab.output.renderOutput(dataTable, element);\n",
              "        const docLink = document.createElement('div');\n",
              "        docLink.innerHTML = docLinkHtml;\n",
              "        element.appendChild(docLink);\n",
              "      }\n",
              "    </script>\n",
              "  </div>\n",
              "\n",
              "\n",
              "    <div id=\"df-edb48150-c4fb-4f04-bb27-f5dbdb4171ec\">\n",
              "      <button class=\"colab-df-quickchart\" onclick=\"quickchart('df-edb48150-c4fb-4f04-bb27-f5dbdb4171ec')\"\n",
              "                title=\"Suggest charts\"\n",
              "                style=\"display:none;\">\n",
              "\n",
              "<svg xmlns=\"http://www.w3.org/2000/svg\" height=\"24px\"viewBox=\"0 0 24 24\"\n",
              "     width=\"24px\">\n",
              "    <g>\n",
              "        <path d=\"M19 3H5c-1.1 0-2 .9-2 2v14c0 1.1.9 2 2 2h14c1.1 0 2-.9 2-2V5c0-1.1-.9-2-2-2zM9 17H7v-7h2v7zm4 0h-2V7h2v10zm4 0h-2v-4h2v4z\"/>\n",
              "    </g>\n",
              "</svg>\n",
              "      </button>\n",
              "\n",
              "<style>\n",
              "  .colab-df-quickchart {\n",
              "      --bg-color: #E8F0FE;\n",
              "      --fill-color: #1967D2;\n",
              "      --hover-bg-color: #E2EBFA;\n",
              "      --hover-fill-color: #174EA6;\n",
              "      --disabled-fill-color: #AAA;\n",
              "      --disabled-bg-color: #DDD;\n",
              "  }\n",
              "\n",
              "  [theme=dark] .colab-df-quickchart {\n",
              "      --bg-color: #3B4455;\n",
              "      --fill-color: #D2E3FC;\n",
              "      --hover-bg-color: #434B5C;\n",
              "      --hover-fill-color: #FFFFFF;\n",
              "      --disabled-bg-color: #3B4455;\n",
              "      --disabled-fill-color: #666;\n",
              "  }\n",
              "\n",
              "  .colab-df-quickchart {\n",
              "    background-color: var(--bg-color);\n",
              "    border: none;\n",
              "    border-radius: 50%;\n",
              "    cursor: pointer;\n",
              "    display: none;\n",
              "    fill: var(--fill-color);\n",
              "    height: 32px;\n",
              "    padding: 0;\n",
              "    width: 32px;\n",
              "  }\n",
              "\n",
              "  .colab-df-quickchart:hover {\n",
              "    background-color: var(--hover-bg-color);\n",
              "    box-shadow: 0 1px 2px rgba(60, 64, 67, 0.3), 0 1px 3px 1px rgba(60, 64, 67, 0.15);\n",
              "    fill: var(--button-hover-fill-color);\n",
              "  }\n",
              "\n",
              "  .colab-df-quickchart-complete:disabled,\n",
              "  .colab-df-quickchart-complete:disabled:hover {\n",
              "    background-color: var(--disabled-bg-color);\n",
              "    fill: var(--disabled-fill-color);\n",
              "    box-shadow: none;\n",
              "  }\n",
              "\n",
              "  .colab-df-spinner {\n",
              "    border: 2px solid var(--fill-color);\n",
              "    border-color: transparent;\n",
              "    border-bottom-color: var(--fill-color);\n",
              "    animation:\n",
              "      spin 1s steps(1) infinite;\n",
              "  }\n",
              "\n",
              "  @keyframes spin {\n",
              "    0% {\n",
              "      border-color: transparent;\n",
              "      border-bottom-color: var(--fill-color);\n",
              "      border-left-color: var(--fill-color);\n",
              "    }\n",
              "    20% {\n",
              "      border-color: transparent;\n",
              "      border-left-color: var(--fill-color);\n",
              "      border-top-color: var(--fill-color);\n",
              "    }\n",
              "    30% {\n",
              "      border-color: transparent;\n",
              "      border-left-color: var(--fill-color);\n",
              "      border-top-color: var(--fill-color);\n",
              "      border-right-color: var(--fill-color);\n",
              "    }\n",
              "    40% {\n",
              "      border-color: transparent;\n",
              "      border-right-color: var(--fill-color);\n",
              "      border-top-color: var(--fill-color);\n",
              "    }\n",
              "    60% {\n",
              "      border-color: transparent;\n",
              "      border-right-color: var(--fill-color);\n",
              "    }\n",
              "    80% {\n",
              "      border-color: transparent;\n",
              "      border-right-color: var(--fill-color);\n",
              "      border-bottom-color: var(--fill-color);\n",
              "    }\n",
              "    90% {\n",
              "      border-color: transparent;\n",
              "      border-bottom-color: var(--fill-color);\n",
              "    }\n",
              "  }\n",
              "</style>\n",
              "\n",
              "      <script>\n",
              "        async function quickchart(key) {\n",
              "          const quickchartButtonEl =\n",
              "            document.querySelector('#' + key + ' button');\n",
              "          quickchartButtonEl.disabled = true;  // To prevent multiple clicks.\n",
              "          quickchartButtonEl.classList.add('colab-df-spinner');\n",
              "          try {\n",
              "            const charts = await google.colab.kernel.invokeFunction(\n",
              "                'suggestCharts', [key], {});\n",
              "          } catch (error) {\n",
              "            console.error('Error during call to suggestCharts:', error);\n",
              "          }\n",
              "          quickchartButtonEl.classList.remove('colab-df-spinner');\n",
              "          quickchartButtonEl.classList.add('colab-df-quickchart-complete');\n",
              "        }\n",
              "        (() => {\n",
              "          let quickchartButtonEl =\n",
              "            document.querySelector('#df-edb48150-c4fb-4f04-bb27-f5dbdb4171ec button');\n",
              "          quickchartButtonEl.style.display =\n",
              "            google.colab.kernel.accessAllowed ? 'block' : 'none';\n",
              "        })();\n",
              "      </script>\n",
              "    </div>\n",
              "\n",
              "  <div id=\"id_c4f32479-50ac-4189-bf93-1917cb784800\">\n",
              "    <style>\n",
              "      .colab-df-generate {\n",
              "        background-color: #E8F0FE;\n",
              "        border: none;\n",
              "        border-radius: 50%;\n",
              "        cursor: pointer;\n",
              "        display: none;\n",
              "        fill: #1967D2;\n",
              "        height: 32px;\n",
              "        padding: 0 0 0 0;\n",
              "        width: 32px;\n",
              "      }\n",
              "\n",
              "      .colab-df-generate:hover {\n",
              "        background-color: #E2EBFA;\n",
              "        box-shadow: 0px 1px 2px rgba(60, 64, 67, 0.3), 0px 1px 3px 1px rgba(60, 64, 67, 0.15);\n",
              "        fill: #174EA6;\n",
              "      }\n",
              "\n",
              "      [theme=dark] .colab-df-generate {\n",
              "        background-color: #3B4455;\n",
              "        fill: #D2E3FC;\n",
              "      }\n",
              "\n",
              "      [theme=dark] .colab-df-generate:hover {\n",
              "        background-color: #434B5C;\n",
              "        box-shadow: 0px 1px 3px 1px rgba(0, 0, 0, 0.15);\n",
              "        filter: drop-shadow(0px 1px 2px rgba(0, 0, 0, 0.3));\n",
              "        fill: #FFFFFF;\n",
              "      }\n",
              "    </style>\n",
              "    <button class=\"colab-df-generate\" onclick=\"generateWithVariable('df')\"\n",
              "            title=\"Generate code using this dataframe.\"\n",
              "            style=\"display:none;\">\n",
              "\n",
              "  <svg xmlns=\"http://www.w3.org/2000/svg\" height=\"24px\"viewBox=\"0 0 24 24\"\n",
              "       width=\"24px\">\n",
              "    <path d=\"M7,19H8.4L18.45,9,17,7.55,7,17.6ZM5,21V16.75L18.45,3.32a2,2,0,0,1,2.83,0l1.4,1.43a1.91,1.91,0,0,1,.58,1.4,1.91,1.91,0,0,1-.58,1.4L9.25,21ZM18.45,9,17,7.55Zm-12,3A5.31,5.31,0,0,0,4.9,8.1,5.31,5.31,0,0,0,1,6.5,5.31,5.31,0,0,0,4.9,4.9,5.31,5.31,0,0,0,6.5,1,5.31,5.31,0,0,0,8.1,4.9,5.31,5.31,0,0,0,12,6.5,5.46,5.46,0,0,0,6.5,12Z\"/>\n",
              "  </svg>\n",
              "    </button>\n",
              "    <script>\n",
              "      (() => {\n",
              "      const buttonEl =\n",
              "        document.querySelector('#id_c4f32479-50ac-4189-bf93-1917cb784800 button.colab-df-generate');\n",
              "      buttonEl.style.display =\n",
              "        google.colab.kernel.accessAllowed ? 'block' : 'none';\n",
              "\n",
              "      buttonEl.onclick = () => {\n",
              "        google.colab.notebook.generateWithVariable('df');\n",
              "      }\n",
              "      })();\n",
              "    </script>\n",
              "  </div>\n",
              "\n",
              "    </div>\n",
              "  </div>\n"
            ],
            "application/vnd.google.colaboratory.intrinsic+json": {
              "type": "dataframe",
              "variable_name": "df",
              "summary": "{\n  \"name\": \"df\",\n  \"rows\": 2,\n  \"fields\": [\n    {\n      \"column\": \"ID\",\n      \"properties\": {\n        \"dtype\": \"string\",\n        \"num_unique_values\": 2,\n        \"samples\": [\n          \"008762\",\n          \"009004\"\n        ],\n        \"semantic_type\": \"\",\n        \"description\": \"\"\n      }\n    },\n    {\n      \"column\": \"T\\u00edtulo\",\n      \"properties\": {\n        \"dtype\": \"string\",\n        \"num_unique_values\": 2,\n        \"samples\": [\n          \"Clausal doubling produces phantom islands\",\n          \"Comparing two experimental designs for the study of subject islands in Spanish\"\n        ],\n        \"semantic_type\": \"\",\n        \"description\": \"\"\n      }\n    },\n    {\n      \"column\": \"Autor\",\n      \"properties\": {\n        \"dtype\": \"string\",\n        \"num_unique_values\": 2,\n        \"samples\": [\n          \"Carlos Mu\\u00f1oz P\\u00e9rez\",\n          \"Laura Stigliano\"\n        ],\n        \"semantic_type\": \"\",\n        \"description\": \"\"\n      }\n    },\n    {\n      \"column\": \"Palabras clave\",\n      \"properties\": {\n        \"dtype\": \"string\",\n        \"num_unique_values\": 2,\n        \"samples\": [\n          \"phantom islands, clausal doubling, contrastive topics, movement, spanish, syntax\",\n          \"islands, subject islands, subjects, experimental syntax, spanish, syntax\"\n        ],\n        \"semantic_type\": \"\",\n        \"description\": \"\"\n      }\n    },\n    {\n      \"column\": \"Descargas\",\n      \"properties\": {\n        \"dtype\": \"number\",\n        \"std\": 185,\n        \"min\": 74,\n        \"max\": 336,\n        \"num_unique_values\": 2,\n        \"samples\": [\n          336,\n          74\n        ],\n        \"semantic_type\": \"\",\n        \"description\": \"\"\n      }\n    },\n    {\n      \"column\": \"Resumen\",\n      \"properties\": {\n        \"dtype\": \"string\",\n        \"num_unique_values\": 2,\n        \"samples\": [\n          \"Clausal doubling in Spanish seemingly displays \\u201cisland effects\\u201d, i.e., the construction is unacceptable if the doubled clause is located within a syntactic island. In this paper, we argue that these restrictions are cases of phantom islands, that is, not the result of true syntactic island violations, but rather a byproduct of the information structure of the doubling pattern. We maintain that these effects arise from the dislocated clause being a contrastive topic. Concretely, we claim that in these cases, the sentence fails to address the immediate question under discussion presupposed by its contrastive topics. We show that this approach also accounts for the distribution of clausal doubling in embedding contexts.\",\n          \"This paper investigates the phenomenon of subject islands in Spanish through the lens of two experimental designs, which we refer to as the subject/object design and the simple/complex subject design. Our study is the first one to directly compare these proposed designs in a single, controlled experiment. By comparing these methodologies, we aim to evaluate their effectiveness in capturing the nuances of subject island effects to establish the basis for future investigations in this area. Our findings reveal that both designs yield a significant degradation in acceptability for extractions from subjects, which is consistent with theoretical proposals that aimed to account for subject islands. We question, however, the assumption that a significant interaction, and by extension super-additivity, is the sole criterion for identifying island structures, given that the different factors tested (i.e., the position of the gap, the object/subject distinction, and the extraction/sub-extraction distinction) did not contribute to the degradation observed in subject islands.\"\n        ],\n        \"semantic_type\": \"\",\n        \"description\": \"\"\n      }\n    }\n  ]\n}"
            }
          },
          "metadata": {},
          "execution_count": 25
        }
      ]
    },
    {
      "cell_type": "markdown",
      "source": [
        "En este punto, podríamos postular una iteración para que se aplique la función *get_page()* y para que los resultados se agreguen automáticamente a un DataFrame. No la vamos a correr porque (i) no queremos extraer datos de Lingbuzz otra vez (tarda un rato largo), y (ii) va a tirar error en algún momento."
      ],
      "metadata": {
        "id": "06FGBZOdoVIy"
      }
    },
    {
      "cell_type": "code",
      "source": [
        "# Tip: podemos crear una lista de números usando la función range()\n",
        "\n",
        "for num in range(10,20):\n",
        "  print(num)"
      ],
      "metadata": {
        "id": "Rwg7VLxmpjk8"
      },
      "execution_count": null,
      "outputs": []
    },
    {
      "cell_type": "markdown",
      "source": [
        "Bien, una vez que (en teoría) tenemos un DataFrame con los datos de todos los manuscritos, procedemos a guardarlo en un archivo CSV (comma separated values)."
      ],
      "metadata": {
        "id": "JB5RpcBqpWqN"
      }
    },
    {
      "cell_type": "code",
      "source": [
        "df.to_csv('tabla_con_datos.csv', index=False)"
      ],
      "metadata": {
        "id": "G_nS7ORGoUna"
      },
      "execution_count": null,
      "outputs": []
    },
    {
      "cell_type": "code",
      "source": [],
      "metadata": {
        "id": "1QndggzSEW0y"
      },
      "execution_count": null,
      "outputs": []
    }
  ]
}